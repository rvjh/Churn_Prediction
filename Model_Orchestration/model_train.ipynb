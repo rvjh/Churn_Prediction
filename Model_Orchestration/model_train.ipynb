{
 "cells": [
  {
   "cell_type": "code",
   "execution_count": 92,
   "id": "cd596fc6",
   "metadata": {},
   "outputs": [],
   "source": [
    "import os\n",
    "import argparse\n",
    "import pandas as pd\n",
    "import numpy as np\n",
    "from sklearn.model_selection import train_test_split\n",
    "import xgboost as xgb\n",
    "from sklearn.feature_extraction import DictVectorizer\n",
    "from sklearn import metrics\n",
    "import mlflow\n",
    "import pickle\n",
    "from hyperopt import hp\n",
    "from hyperopt.pyll import scope\n",
    "from hyperopt import fmin, tpe, hp, STATUS_OK, Trials\n",
    "from mlflow.tracking import MlflowClient\n",
    "from mlflow.entities import ViewType"
   ]
  },
  {
   "cell_type": "code",
   "execution_count": 93,
   "id": "ef941cdf",
   "metadata": {},
   "outputs": [],
   "source": [
    "def read_dataframe(filepath):\n",
    "    df = pd.read_csv(filepath)\n",
    "    return df"
   ]
  },
  {
   "cell_type": "code",
   "execution_count": 94,
   "id": "c9d1f603",
   "metadata": {},
   "outputs": [],
   "source": [
    "def preparing_dataframe(filepath):\n",
    "    df = read_dataframe(filepath)\n",
    "    \n",
    "    y_column = \"active_customer\"\n",
    "    train_columns = [\"customer_age\",\n",
    "                     \"gender\",\n",
    "                     \"dependent_count\",\n",
    "                     \"education_level\",\n",
    "                     \"marital_status\",\n",
    "                     \"income_category\",\n",
    "                     \"card_category\",\n",
    "                     \"months_on_book\",\n",
    "                     \"total_relationship_count\",\n",
    "                     \"credit_limit\",\n",
    "                     \"total_revolving_bal\"]\n",
    "    df_to_split = df[train_columns+[y_column]]\n",
    "    return df_to_split , y_column\n"
   ]
  },
  {
   "cell_type": "code",
   "execution_count": 95,
   "id": "71e1054d",
   "metadata": {},
   "outputs": [],
   "source": [
    "def split_dataFrame(filepath):\n",
    "    \n",
    "    df_to_split , y_column = preparing_dataframe(filepath)\n",
    "    \n",
    "    df_full_train, df_test = train_test_split(df_to_split, test_size=0.2, random_state=11)\n",
    "    df_train, df_val = train_test_split(df_full_train, test_size=0.25, random_state=11)\n",
    "\n",
    "    df_full_train = df_full_train.reset_index(drop=True)\n",
    "    df_train = df_train.reset_index(drop=True)\n",
    "    df_val = df_val.reset_index(drop=True)\n",
    "    df_test = df_test.reset_index(drop=True)\n",
    "\n",
    "    y_full_train = df_full_train[y_column]\n",
    "    y_train = df_train[y_column]\n",
    "    y_val = df_val[y_column]\n",
    "    y_test = df_test[y_column]\n",
    "\n",
    "    del df_full_train[y_column]\n",
    "    del df_train[y_column]\n",
    "    del df_val[y_column]\n",
    "    del df_test[y_column]\n",
    "\n",
    "    # with pd.option_context('display.max_rows', 2, 'display.max_columns', None):\n",
    "    #     display(df_test)\n",
    "\n",
    "    #print(\"df_to_split length: \", len(df_to_split))\n",
    "    #print()\n",
    "    #print(\"df_full_train length: \", len(df_full_train))\n",
    "    #print(\"df_train length: \", len(df_train))\n",
    "    #print(\"df_val length: \", len(df_val))\n",
    "    #print(\"df_test length: \", len(df_test))\n",
    "    #print()\n",
    "    #print(\"y_full_train length: \", len(y_full_train))\n",
    "    #print(\"y_train length: \", len(y_train))\n",
    "    #print(\"y_val length: \", len(y_val))\n",
    "    #print(\"y_test length: \", len(y_test))\n",
    "\n",
    "    return df_full_train, df_train, df_val, df_test, y_full_train, y_train, y_val, y_test\n"
   ]
  },
  {
   "cell_type": "code",
   "execution_count": 96,
   "id": "3b56db7d",
   "metadata": {},
   "outputs": [],
   "source": [
    "def train(dataFrame, y, xgb_params):\n",
    "    # Hot Encoding\n",
    "    dicts = dataFrame.to_dict(orient=\"records\")\n",
    "    dv = DictVectorizer(sparse=False)\n",
    "    X = dv.fit_transform(dicts)\n",
    "\n",
    "    features = dv.get_feature_names_out()\n",
    "    #print(features)\n",
    "    dtrain = xgb.DMatrix(X, label=y, feature_names=features, enable_categorical=True)\n",
    "\n",
    "    # train\n",
    "    model = xgb.train(xgb_params, dtrain, num_boost_round=10)\n",
    "    #print(model.feature_names)\n",
    "\n",
    "    return dv, model\n"
   ]
  },
  {
   "cell_type": "code",
   "execution_count": 97,
   "id": "b67c662a",
   "metadata": {},
   "outputs": [],
   "source": [
    "def predict(dataFrame, dv, model):\n",
    "    dicts = dataFrame.to_dict(orient=\"records\")\n",
    "    X = dv.transform(dicts)\n",
    "    features = dv.get_feature_names_out()\n",
    "    dval = xgb.DMatrix(X, feature_names=features)\n",
    "    y_pred = model.predict(dval)\n",
    "    return y_pred, X"
   ]
  },
  {
   "cell_type": "code",
   "execution_count": 98,
   "id": "9565ef82",
   "metadata": {},
   "outputs": [],
   "source": [
    "def get_rmse(y_val, y_pred_val):\n",
    "    mae = metrics.mean_absolute_error(y_val, y_pred_val)\n",
    "    mse = metrics.mean_squared_error(y_val, y_pred_val)\n",
    "    rmse = np.sqrt(metrics.mean_squared_error(y_val, y_pred_val))\n",
    "\n",
    "    #print(\"MAE for numerical linear:\", mae)\n",
    "    #print(\"MSE for numerical linear:\", mse)\n",
    "    #print(\"RMSE:\", rmse)\n",
    "    return mae, mse, rmse"
   ]
  },
  {
   "cell_type": "code",
   "execution_count": null,
   "id": "7d0ceaa9",
   "metadata": {},
   "outputs": [],
   "source": []
  },
  {
   "cell_type": "code",
   "execution_count": 99,
   "id": "a0b6e683",
   "metadata": {},
   "outputs": [],
   "source": [
    "def set_mlflow(experiment):\n",
    "    mlflow.set_tracking_uri(\"http://15.207.72.49:5000\")\n",
    "    mlflow.set_experiment(experiment)"
   ]
  },
  {
   "cell_type": "code",
   "execution_count": 100,
   "id": "cb798a29",
   "metadata": {},
   "outputs": [],
   "source": [
    "def run(experiement, filepath):\n",
    "    \n",
    "    #df_clean = read_dataframe(filepath)\n",
    "    #df_to_split , y_column = preparing_dataframe(filepath)\n",
    "    df_full_train, df_train, df_val, df_test, y_full_train, y_train, y_val, y_test = split_dataFrame(filepath)\n",
    "\n",
    "    mlflow.xgboost.autolog()\n",
    "\n",
    "    xgb_params_search_space = {\n",
    "        'max_depth': scope.int(hp.choice('max_depth', [5, 10, 12, 13, 14, 20,30,40,50,100])),\n",
    "        'eta': scope.int(hp.choice('eta', [0, 0.001, 0.01, 0.1, 0.2, 0.3, 0.4, 0.6, 1, 2, 5, 10])),\n",
    "        'min_child_weight': 1,\n",
    "        'objective': 'reg:squarederror',\n",
    "        'nthread': 8,\n",
    "        'verbosity':0,\n",
    "        \"seed\":42\n",
    "    }\n",
    "\n",
    "    def objective(params={}):\n",
    "        with mlflow.start_run():\n",
    "            active_mlflow_run_id = mlflow.active_run().info.run_id\n",
    "            if (active_mlflow_run_id==None): raise ValueError(\"missing MLFlow active run.\")\n",
    "            # print(f'Training model. Active MLFlow run_id: {active_mlflow_run_id}')\n",
    "            mlflow.set_tag(\"model\", \"xgboost\")\n",
    "\n",
    "            dv, model = train(df_full_train, y_full_train, params)\n",
    "            \n",
    "            os.makedirs(\"models\", exist_ok=True)\n",
    "            with open(\"models/preprocessor.b\",\"wb\") as f_out:\n",
    "                pickle.dump(dv,f_out)\n",
    "            mlflow.log_artifact(\"models/preprocessor.b\",artifact_path=\"preprocessor\")\n",
    "            mlflow.xgboost.log_model(model,artifact_path=\"models_mlflow\")\n",
    "            print(f\"default artifacts URI: '{mlflow.get_artifact_uri()}'\")\n",
    "\n",
    "            y_pred_val, X_val = predict(df_val, dv, model)\n",
    "            mae, mse, rmse = get_rmse(y_val, y_pred_val)\n",
    "            mlflow.log_metric(\"mae\", mae) \n",
    "            mlflow.log_metric(\"mse\", mse) \n",
    "            mlflow.log_metric(\"rmse\", rmse) \n",
    "\n",
    "        return {'loss':rmse, 'status':STATUS_OK}\n",
    "\n",
    "    best_result = fmin(\n",
    "        fn=objective,\n",
    "        space=xgb_params_search_space,\n",
    "        algo=tpe.suggest,\n",
    "        max_evals=5, #50\n",
    "        trials=Trials()\n",
    "    )"
   ]
  },
  {
   "cell_type": "code",
   "execution_count": 101,
   "id": "c4207a87",
   "metadata": {},
   "outputs": [],
   "source": [
    "def register_best_run(experiment_name):\n",
    "    client = MlflowClient()\n",
    "\n",
    "    # select the model with the lowest test RMSE\n",
    "    experiment = client.get_experiment_by_name(experiment_name)\n",
    "    print(experiment)\n",
    "    best_runs = client.search_runs(\n",
    "        experiment_ids=experiment.experiment_id,\n",
    "        run_view_type=ViewType.ACTIVE_ONLY,\n",
    "        max_results=5,  #50\n",
    "        order_by=[\"metrics.rmse ASC\"]\n",
    "    )\n",
    "\n",
    "    print(f'Models count: {len(best_runs)}')\n",
    "    if (len(best_runs) == 0): raise \"No models found.\"\n",
    "    print(f'Top model found: {best_runs[0]}')\n",
    "\n",
    "    # register the best model\n",
    "    model_uri = f\"runs:/{best_runs[0].info.run_id}/model\"\n",
    "    print(f'Registering {model_uri}')\n",
    "    mv = mlflow.register_model(model_uri=model_uri, name=f\"best_model-{experiment_name}\")\n",
    "    print(f\"Registrered model {mv.name}, version: {mv.version}\")\n",
    "    # client.update_registered_model(\n",
    "    #     name=mv.name,\n",
    "    #     description=f\"rmse={best_runs[0].data.metrics['rmse']}\"\n",
    "    # )\n",
    "    # client.list_registered_models()"
   ]
  },
  {
   "cell_type": "code",
   "execution_count": 102,
   "id": "c9c3e5ff",
   "metadata": {},
   "outputs": [
    {
     "name": "stdout",
     "output_type": "stream",
     "text": [
      "Enter Experiment name : exp-7\n"
     ]
    },
    {
     "name": "stderr",
     "output_type": "stream",
     "text": [
      "2023/02/02 03:35:44 INFO mlflow.tracking.fluent: Experiment with name 'exp-7' does not exist. Creating a new experiment.\n",
      "2023/02/02 03:35:45 WARNING mlflow.utils.autologging_utils: You are using an unsupported version of xgboost. If you encounter errors during autologging, try upgrading / downgrading xgboost to a supported version, or try upgrading MLflow.\n"
     ]
    },
    {
     "name": "stdout",
     "output_type": "stream",
     "text": [
      "\r",
      "  0%|                                                                                                                | 0/5 [00:00<?, ?trial/s, best loss=?]"
     ]
    },
    {
     "name": "stderr",
     "output_type": "stream",
     "text": [
      "2023/02/02 03:35:47 WARNING mlflow.xgboost: Failed to infer model signature: training data did not have the following fields: card_category=blue, card_category=gold, card_category=platinum, card_category=silver, credit_limit, customer_age, dependent_count, education_level, gender=F, gender=M, income_category, marital_status=divorced, marital_status=married, marital_status=single, months_on_book, total_relationship_count, total_revolving_bal\n",
      "\n"
     ]
    },
    {
     "name": "stdout",
     "output_type": "stream",
     "text": [
      "default artifacts URI: 's3://mlops-s3-bucket-1/11/e712d98cbbce4ba7a175f3f4b4a71b1a/artifacts'                                                              \n",
      " 20%|████████████████████▏                                                                                | 1/5 [00:50<03:20, 50.23s/trial, best loss: 0.5]"
     ]
    },
    {
     "name": "stderr",
     "output_type": "stream",
     "text": [
      "2023/02/02 03:36:37 WARNING mlflow.xgboost: Failed to infer model signature: training data did not have the following fields: card_category=blue, card_category=gold, card_category=platinum, card_category=silver, credit_limit, customer_age, dependent_count, education_level, gender=F, gender=M, income_category, marital_status=divorced, marital_status=married, marital_status=single, months_on_book, total_relationship_count, total_revolving_bal\n",
      "\n"
     ]
    },
    {
     "name": "stdout",
     "output_type": "stream",
     "text": [
      "default artifacts URI: 's3://mlops-s3-bucket-1/11/e515c55f821b430286a35f2375e60e38/artifacts'                                                              \n",
      " 40%|████████████████████████████████████████▍                                                            | 2/5 [01:00<01:20, 26.70s/trial, best loss: 0.5]"
     ]
    },
    {
     "name": "stderr",
     "output_type": "stream",
     "text": [
      "2023/02/02 03:36:48 WARNING mlflow.xgboost: Failed to infer model signature: training data did not have the following fields: card_category=blue, card_category=gold, card_category=platinum, card_category=silver, credit_limit, customer_age, dependent_count, education_level, gender=F, gender=M, income_category, marital_status=divorced, marital_status=married, marital_status=single, months_on_book, total_relationship_count, total_revolving_bal\n",
      "\n"
     ]
    },
    {
     "name": "stdout",
     "output_type": "stream",
     "text": [
      "default artifacts URI: 's3://mlops-s3-bucket-1/11/32659cf709444215a2e61098faf4691c/artifacts'                                                              \n",
      " 60%|████████████████████████████████████████████████████████████▌                                        | 3/5 [01:11<00:38, 19.48s/trial, best loss: 0.5]"
     ]
    },
    {
     "name": "stderr",
     "output_type": "stream",
     "text": [
      "2023/02/02 03:36:58 WARNING mlflow.xgboost: Failed to infer model signature: training data did not have the following fields: card_category=blue, card_category=gold, card_category=platinum, card_category=silver, credit_limit, customer_age, dependent_count, education_level, gender=F, gender=M, income_category, marital_status=divorced, marital_status=married, marital_status=single, months_on_book, total_relationship_count, total_revolving_bal\n",
      "\n"
     ]
    },
    {
     "name": "stdout",
     "output_type": "stream",
     "text": [
      "default artifacts URI: 's3://mlops-s3-bucket-1/11/96bd8e5532894b2a825a13465e6276eb/artifacts'                                                              \n",
      " 80%|██████████████████████████████████████████████████████████████████▍                | 4/5 [01:22<00:16, 16.09s/trial, best loss: 0.0006259383517317474]"
     ]
    },
    {
     "name": "stderr",
     "output_type": "stream",
     "text": [
      "2023/02/02 03:37:09 WARNING mlflow.xgboost: Failed to infer model signature: training data did not have the following fields: card_category=blue, card_category=gold, card_category=platinum, card_category=silver, credit_limit, customer_age, dependent_count, education_level, gender=F, gender=M, income_category, marital_status=divorced, marital_status=married, marital_status=single, months_on_book, total_relationship_count, total_revolving_bal\n",
      "\n"
     ]
    },
    {
     "name": "stdout",
     "output_type": "stream",
     "text": [
      "default artifacts URI: 's3://mlops-s3-bucket-1/11/6117480acd0a438295dabfb24f6f744f/artifacts'                                                              \n",
      "100%|███████████████████████████████████████████████████████████████████████████████████| 5/5 [01:32<00:00, 18.47s/trial, best loss: 0.0006259383517317474]\n",
      "<Experiment: artifact_location='s3://mlops-s3-bucket-1/11', creation_time=1675289144223, experiment_id='11', last_update_time=1675289144223, lifecycle_stage='active', name='exp-7', tags={}>\n",
      "Models count: 5\n",
      "Top model found: <Run: data=<RunData: metrics={'mae': 0.0003868605417665094,\n",
      " 'mse': 3.9179880673145817e-07,\n",
      " 'rmse': 0.0006259383517317474}, params={'custom_metric': 'None',\n",
      " 'early_stopping_rounds': 'None',\n",
      " 'eta': '1',\n",
      " 'max_depth': '100',\n",
      " 'maximize': 'None',\n",
      " 'min_child_weight': '1',\n",
      " 'nthread': '8',\n",
      " 'num_boost_round': '10',\n",
      " 'objective': 'reg:squarederror',\n",
      " 'seed': '42',\n",
      " 'verbose_eval': 'True',\n",
      " 'verbosity': '0'}, tags={'mlflow.log-model.history': '[{\"run_id\": \"96bd8e5532894b2a825a13465e6276eb\", '\n",
      "                             '\"artifact_path\": \"model\", \"utc_time_created\": '\n",
      "                             '\"2023-02-01 22:06:58.577310\", \"flavors\": '\n",
      "                             '{\"python_function\": {\"loader_module\": '\n",
      "                             '\"mlflow.xgboost\", \"python_version\": \"3.9.16\", '\n",
      "                             '\"data\": \"model.None\", \"env\": {\"conda\": '\n",
      "                             '\"conda.yaml\", \"virtualenv\": \"python_env.yaml\"}}, '\n",
      "                             '\"xgboost\": {\"xgb_version\": \"1.7.3\", \"data\": '\n",
      "                             '\"model.None\", \"model_class\": '\n",
      "                             '\"xgboost.core.Booster\", \"model_format\": null, '\n",
      "                             '\"code\": null}}, \"model_uuid\": '\n",
      "                             '\"c05ed8e3b6b34274a471c0bad67fd7ea\", '\n",
      "                             '\"mlflow_version\": \"2.1.1\"}, {\"run_id\": '\n",
      "                             '\"96bd8e5532894b2a825a13465e6276eb\", '\n",
      "                             '\"artifact_path\": \"models_mlflow\", '\n",
      "                             '\"utc_time_created\": \"2023-02-01 '\n",
      "                             '22:07:02.856444\", \"flavors\": {\"python_function\": '\n",
      "                             '{\"loader_module\": \"mlflow.xgboost\", '\n",
      "                             '\"python_version\": \"3.9.16\", \"data\": '\n",
      "                             '\"model.None\", \"env\": {\"conda\": \"conda.yaml\", '\n",
      "                             '\"virtualenv\": \"python_env.yaml\"}}, \"xgboost\": '\n",
      "                             '{\"xgb_version\": \"1.7.3\", \"data\": \"model.None\", '\n",
      "                             '\"model_class\": \"xgboost.core.Booster\", '\n",
      "                             '\"model_format\": null, \"code\": null}}, '\n",
      "                             '\"model_uuid\": '\n",
      "                             '\"0a15cb911390419aa2d65f5a468b7db6\", '\n",
      "                             '\"mlflow_version\": \"2.1.1\"}]',\n",
      " 'mlflow.runName': 'carefree-hound-814',\n",
      " 'mlflow.source.name': '/home/lambu/anaconda3/envs/Churn_Prediction_Dev/lib/python3.9/site-packages/ipykernel_launcher.py',\n",
      " 'mlflow.source.type': 'LOCAL',\n",
      " 'mlflow.user': 'lambu',\n",
      " 'model': 'xgboost'}>, info=<RunInfo: artifact_uri='s3://mlops-s3-bucket-1/11/96bd8e5532894b2a825a13465e6276eb/artifacts', end_time=1675289227581, experiment_id='11', lifecycle_stage='active', run_id='96bd8e5532894b2a825a13465e6276eb', run_name='carefree-hound-814', run_uuid='96bd8e5532894b2a825a13465e6276eb', start_time=1675289216797, status='FINISHED', user_id='lambu'>>\n",
      "Registering runs:/96bd8e5532894b2a825a13465e6276eb/model\n"
     ]
    },
    {
     "name": "stderr",
     "output_type": "stream",
     "text": [
      "Successfully registered model 'best_model-exp-7'.\n",
      "2023/02/02 03:37:18 INFO mlflow.tracking._model_registry.client: Waiting up to 300 seconds for model version to finish creation.                     Model name: best_model-exp-7, version 1\n"
     ]
    },
    {
     "name": "stdout",
     "output_type": "stream",
     "text": [
      "Registrered model best_model-exp-7, version: 1\n"
     ]
    },
    {
     "name": "stderr",
     "output_type": "stream",
     "text": [
      "Created version '1' of model 'best_model-exp-7'.\n"
     ]
    }
   ],
   "source": [
    "if __name__==\"__main__\":\n",
    "    \n",
    "    filepath = \"../Clean_Input_Data/credit_card_churn_clean.csv\"\n",
    "    \n",
    "    experiment = input(\"Enter Experiment name : \")\n",
    "    \n",
    "    set_mlflow(experiment)\n",
    "    run(experiment, filepath)\n",
    "    register_best_run(experiment)\n",
    "    \n",
    "    \n",
    "    \n",
    "    \n",
    "    "
   ]
  },
  {
   "cell_type": "code",
   "execution_count": null,
   "id": "f1f20457",
   "metadata": {},
   "outputs": [],
   "source": []
  },
  {
   "cell_type": "code",
   "execution_count": null,
   "id": "1e3adf09",
   "metadata": {},
   "outputs": [],
   "source": []
  },
  {
   "cell_type": "code",
   "execution_count": 13,
   "id": "65be13e0",
   "metadata": {},
   "outputs": [],
   "source": []
  },
  {
   "cell_type": "code",
   "execution_count": null,
   "id": "76e23891",
   "metadata": {},
   "outputs": [],
   "source": []
  },
  {
   "cell_type": "code",
   "execution_count": null,
   "id": "85621ee3",
   "metadata": {},
   "outputs": [],
   "source": []
  },
  {
   "cell_type": "code",
   "execution_count": null,
   "id": "4a76400c",
   "metadata": {},
   "outputs": [],
   "source": []
  }
 ],
 "metadata": {
  "kernelspec": {
   "display_name": "Python 3 (ipykernel)",
   "language": "python",
   "name": "python3"
  },
  "language_info": {
   "codemirror_mode": {
    "name": "ipython",
    "version": 3
   },
   "file_extension": ".py",
   "mimetype": "text/x-python",
   "name": "python",
   "nbconvert_exporter": "python",
   "pygments_lexer": "ipython3",
   "version": "3.9.16"
  }
 },
 "nbformat": 4,
 "nbformat_minor": 5
}
